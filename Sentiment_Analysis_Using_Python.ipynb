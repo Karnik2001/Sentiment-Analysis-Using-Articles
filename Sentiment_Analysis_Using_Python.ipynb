{
  "nbformat": 4,
  "nbformat_minor": 0,
  "metadata": {
    "colab": {
      "provenance": []
    },
    "kernelspec": {
      "name": "python3",
      "display_name": "Python 3"
    },
    "language_info": {
      "name": "python"
    }
  },
  "cells": [
    {
      "cell_type": "code",
      "execution_count": null,
      "metadata": {
        "colab": {
          "base_uri": "https://localhost:8080/"
        },
        "id": "fGcGJgZfH1MW",
        "outputId": "641ba278-5f4a-43f5-a6b2-61172815eacb"
      },
      "outputs": [
        {
          "output_type": "stream",
          "name": "stderr",
          "text": [
            "[nltk_data] Downloading package punkt_tab to /root/nltk_data...\n",
            "[nltk_data]   Package punkt_tab is already up-to-date!\n"
          ]
        },
        {
          "output_type": "execute_result",
          "data": {
            "text/plain": [
              "True"
            ]
          },
          "metadata": {},
          "execution_count": 1
        }
      ],
      "source": [
        "# Import all of the necesary libraries\n",
        "from textblob import TextBlob\n",
        "from newspaper import Article\n",
        "import nltk\n",
        "nltk.download('punkt_tab')"
      ]
    },
    {
      "cell_type": "code",
      "source": [
        "# Insert link\n",
        "url='https://en.wikipedia.org/wiki/Industrial_engineering'\n",
        "ind=Article(url)"
      ],
      "metadata": {
        "id": "qf3OWRqRH6eG"
      },
      "execution_count": null,
      "outputs": []
    },
    {
      "cell_type": "code",
      "source": [
        "# Download the content of the webpage\n",
        "ind.download()\n",
        "\n",
        "# Parse the downloaded HTML to extract relevant information like article text\n",
        "ind.parse()\n",
        "\n",
        "# Apply Natural Language Processing (NLP) techniques to the parsed content\n",
        "ind.nlp()"
      ],
      "metadata": {
        "id": "iWfebz9eH6bO"
      },
      "execution_count": null,
      "outputs": []
    },
    {
      "cell_type": "code",
      "source": [
        "# Extract the summary of the article and store it in the variable 'indtext'\n",
        "indtext=ind.summary\n",
        "\n",
        "# Print the extracted summary to the console\n",
        "print(indtext)"
      ],
      "metadata": {
        "colab": {
          "base_uri": "https://localhost:8080/"
        },
        "id": "YOdrAaPGIpz5",
        "outputId": "f7e0e34f-8019-4c3d-a014-98c3aabc5d9f"
      },
      "execution_count": null,
      "outputs": [
        {
          "output_type": "stream",
          "name": "stdout",
          "text": [
            "[4][5] Depending on the subspecialties involved, industrial engineering may also overlap with, operations research, systems engineering, manufacturing engineering, production engineering, supply chain engineering, management science, engineering management, financial engineering, ergonomics or human factors engineering, safety engineering, logistics engineering, quality engineering or other related capabilities or fields.\n",
            "History [ edit ]Origins [ edit ]Industrial engineering [ edit ]The origins of industrial engineering are generally traced back to the Industrial Revolution with the rise of factory systems and mass production.\n",
            "[22] People have changed the term industrial to broader terms such as industrial and manufacturing engineering, industrial and systems engineering, industrial engineering and operations research, or industrial engineering and management.\n",
            "The Edward P. Fitts Department of Industrial and Systems Engineering at NC State University, the H. Milton Stewart School of Industrial and Systems Engineering at Georgia Institute of Technology, and the Department of Industrial and Operations Engineering at the University of Michigan are all named industrial engineering departments in the United States.\n",
            "Variations of the title include Industrial & Operations Engineering (IOE), and Industrial & Systems Engineering (ISE or ISyE).\n"
          ]
        }
      ]
    },
    {
      "cell_type": "code",
      "source": [
        "# Create a TextBlob object from the extracted article summary\n",
        "iblob=TextBlob(indtext)\n",
        "\n",
        "# Calculate the sentiment polarity of the article summary\n",
        "isentiment=iblob.sentiment.polarity\n",
        "\n",
        "# Print the calculated sentiment polarity score\n",
        "print(isentiment)"
      ],
      "metadata": {
        "colab": {
          "base_uri": "https://localhost:8080/"
        },
        "id": "vm5NFoelH6YW",
        "outputId": "606c75ed-30e3-478d-ff5e-61dc41630166"
      },
      "execution_count": null,
      "outputs": [
        {
          "output_type": "stream",
          "name": "stdout",
          "text": [
            "-0.010714285714285713\n"
          ]
        }
      ]
    },
    {
      "cell_type": "code",
      "source": [
        "url = 'https://www.yahoo.com/news/shingles-vaccine-unexpected-effect-heart-193943612.html?fr=sycsrp_catchall'\n",
        "\n",
        "fox = Article(url)\n",
        "fox.download()\n",
        "fox.parse()\n",
        "fox.nlp()"
      ],
      "metadata": {
        "id": "3a8X8X5QH6NI"
      },
      "execution_count": null,
      "outputs": []
    },
    {
      "cell_type": "code",
      "source": [
        "foxtext = fox.summary\n",
        "print(foxtext)"
      ],
      "metadata": {
        "colab": {
          "base_uri": "https://localhost:8080/"
        },
        "id": "8fcsJTSSM-8M",
        "outputId": "de6d9317-e217-4602-c2a0-ef8b85f89592"
      },
      "execution_count": null,
      "outputs": [
        {
          "output_type": "stream",
          "name": "stdout",
          "text": [
            "A new study has found that the shingles vaccine could lower the risk of heart disease for up to eight years.\n",
            "They found that those who received the shingles vaccine had a 23% lower risk of heart issues, including stroke, heart failure and coronary artery disease.\n",
            "Those who received the shingles vaccine had a 23% lower risk of heart issues, including stroke, heart failure and coronary artery disease.\n",
            "The researchers shared several possible reasons for the vaccine’s protective effect on heart health.\n",
            "Original article source: Shingles vaccine has unexpected effect on heart health\n"
          ]
        }
      ]
    },
    {
      "cell_type": "code",
      "source": [
        "fblob = TextBlob(foxtext)\n",
        "fsentiment = fblob.sentiment.polarity\n",
        "print(fsentiment)"
      ],
      "metadata": {
        "colab": {
          "base_uri": "https://localhost:8080/"
        },
        "id": "HtH-_p20M-0s",
        "outputId": "b366ecd1-eb34-4423-d14a-871ba05ade92"
      },
      "execution_count": null,
      "outputs": [
        {
          "output_type": "stream",
          "name": "stdout",
          "text": [
            "-0.003138528138528151\n"
          ]
        }
      ]
    },
    {
      "cell_type": "code",
      "source": [
        "url = 'https://www.yahoo.com/news/us-begin-admitting-white-south-234335569.html?fr=sycsrp_catchall'\n",
        "\n",
        "ref = Article(url)\n",
        "ref.download()\n",
        "ref.parse()\n",
        "ref.nlp()"
      ],
      "metadata": {
        "id": "NIWeMpUORKdn"
      },
      "execution_count": null,
      "outputs": []
    },
    {
      "cell_type": "code",
      "source": [
        "reftext = ref.summary\n",
        "print(reftext)"
      ],
      "metadata": {
        "colab": {
          "base_uri": "https://localhost:8080/"
        },
        "id": "ybg-NvfcRKai",
        "outputId": "0cd16008-dd8c-4e5d-e95d-c542da2c056c"
      },
      "execution_count": null,
      "outputs": [
        {
          "output_type": "stream",
          "name": "stdout",
          "text": [
            "The United States will begin admitting the first group of White South African refugees next week, whom President Trump’s administration has argued have been victims of “racial discrimination.”“The refugee program is not intended as a solution for global poverty.\n",
            "“What’s happening in South Africa fits the textbook definition of why the refugee program was created…race based persecution,” Miller, Trump’s chief immigration policy architect, told reporters.\n",
            "The South Africa Police Services statistics on farm related crimes do not support allegations of violent crime targeted at farmers generally or any particular race.\n",
            "There are sufficient structures available within South Africa to address concerns of discrimination,” South Africa’s government said in a statement on Friday.\n",
            "Advertisement AdvertisementAdvertisement AdvertisementTrump reiterated his intention to help resettle some South African farmers in the U.S. two months ago.\n"
          ]
        }
      ]
    },
    {
      "cell_type": "code",
      "source": [
        "rblob = TextBlob(reftext)\n",
        "rsentiment = rblob.sentiment.polarity\n",
        "print(rsentiment)"
      ],
      "metadata": {
        "colab": {
          "base_uri": "https://localhost:8080/"
        },
        "id": "Q-wu-n8bRSPX",
        "outputId": "846975c9-f589-4563-ad04-1bf91580ad75"
      },
      "execution_count": null,
      "outputs": [
        {
          "output_type": "stream",
          "name": "stdout",
          "text": [
            "0.006060606060606059\n"
          ]
        }
      ]
    },
    {
      "cell_type": "code",
      "source": [
        "# Open and read the text file\n",
        "with open('/content/Testing.txt','r') as f :\n",
        "  text=f.read()"
      ],
      "metadata": {
        "id": "wRmk2nJkRq4p"
      },
      "execution_count": null,
      "outputs": []
    },
    {
      "cell_type": "code",
      "source": [
        "# Create a TextBlob object from the extracted article summary\n",
        "tblob = TextBlob(text)\n",
        "\n",
        "# Calculate the sentiment polarity of the article summary\n",
        "tsentiment = tblob.sentiment.polarity\n",
        "\n",
        "# Print the calculated sentiment polarity score\n",
        "print(tsentiment)"
      ],
      "metadata": {
        "colab": {
          "base_uri": "https://localhost:8080/"
        },
        "id": "Wk2NVwZXRq1R",
        "outputId": "e2321e44-05cc-4b3a-b547-e170dd51bd91"
      },
      "execution_count": null,
      "outputs": [
        {
          "output_type": "stream",
          "name": "stdout",
          "text": [
            "1.0\n"
          ]
        }
      ]
    },
    {
      "cell_type": "code",
      "source": [
        "with open('/content/Academics.txt','r') as f :\n",
        "  text=f.read()"
      ],
      "metadata": {
        "id": "QFbdGCLiRqyQ"
      },
      "execution_count": null,
      "outputs": []
    },
    {
      "cell_type": "code",
      "source": [
        "ablob = TextBlob(text)\n",
        "asentiment = ablob.sentiment.polarity\n",
        "print(asentiment)"
      ],
      "metadata": {
        "colab": {
          "base_uri": "https://localhost:8080/"
        },
        "id": "299Vk2IzRqu4",
        "outputId": "2bedbedc-e8a1-4519-ff25-702111e95fc2"
      },
      "execution_count": null,
      "outputs": [
        {
          "output_type": "stream",
          "name": "stdout",
          "text": [
            "0.5\n"
          ]
        }
      ]
    }
  ]
}